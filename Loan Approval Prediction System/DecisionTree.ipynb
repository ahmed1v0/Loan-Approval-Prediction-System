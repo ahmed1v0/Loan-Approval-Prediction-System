{
  "nbformat": 4,
  "nbformat_minor": 0,
  "metadata": {
    "colab": {
      "provenance": []
    },
    "kernelspec": {
      "name": "python3",
      "display_name": "Python 3"
    },
    "language_info": {
      "name": "python"
    }
  },
  "cells": [
    {
      "cell_type": "markdown",
      "source": [
        "Library\n",
        "--------------------------"
      ],
      "metadata": {
        "id": "eBsBt7ZEgCnP"
      }
    },
    {
      "cell_type": "code",
      "execution_count": 6401,
      "metadata": {
        "id": "boMf3s0FLqeP"
      },
      "outputs": [],
      "source": [
        "from sklearn.svm import SVC\n",
        "import pandas as pd\n",
        "import numpy as np\n",
        "import matplotlib.pyplot as plt\n",
        "%matplotlib inline\n",
        "from sklearn.svm import SVC\n",
        "from sklearn.model_selection import train_test_split\n",
        "from sklearn import tree\n",
        "from sklearn.tree import DecisionTreeClassifier\n",
        "from sklearn import metrics\n",
        "from sklearn.neighbors import KNeighborsClassifier\n",
        "import statistics\n",
        "from sklearn.ensemble import RandomForestClassifier\n",
        "\n",
        "import matplotlib.pyplot as plt\n",
        "import seaborn as sns\n",
        "%matplotlib inline"
      ]
    },
    {
      "cell_type": "markdown",
      "source": [
        "Files\n",
        "--------------------------"
      ],
      "metadata": {
        "id": "eygQU9uigI9S"
      }
    },
    {
      "cell_type": "code",
      "source": [
        "data = pd.read_csv('Credit_Card_Train.csv')\n",
        "data2 = pd.read_csv('Credit_Card_X_Test.csv')"
      ],
      "metadata": {
        "id": "X-FGw1idL0Cd"
      },
      "execution_count": 6402,
      "outputs": []
    },
    {
      "cell_type": "markdown",
      "source": [
        "Understanding Data\n",
        "--------------------------"
      ],
      "metadata": {
        "id": "YXKcrER2gLyy"
      }
    },
    {
      "cell_type": "code",
      "source": [
        "data.head()"
      ],
      "metadata": {
        "colab": {
          "base_uri": "https://localhost:8080/",
          "height": 270
        },
        "id": "IWzexQ8PMJOj",
        "outputId": "b73b5056-672b-4946-cc0b-3bdcc593e6a1"
      },
      "execution_count": 6403,
      "outputs": [
        {
          "output_type": "execute_result",
          "data": {
            "text/plain": [
              "   Gender    Age   Debt  Married  BankCustomer     Industry Ethnicity  \\\n",
              "0       1  30.83  0.000        1             1  Industrials     White   \n",
              "1       0  58.67  4.460        1             1    Materials     Black   \n",
              "2       0  24.50  0.500        1             1    Materials     Black   \n",
              "3       1  27.83  1.540        1             1  Industrials     White   \n",
              "4       1  20.17  5.625        1             1  Industrials     White   \n",
              "\n",
              "   YearsEmployed  PriorDefault  Employed  CreditScore  DriversLicense  \\\n",
              "0           1.25             1         1            1               0   \n",
              "1           3.04             1         1            6               0   \n",
              "2           1.50             1         0            0               0   \n",
              "3           3.75             1         1            5               1   \n",
              "4           1.71             1         0            0               0   \n",
              "\n",
              "        Citizen  ZipCode  Income  Approved  \n",
              "0       ByBirth      202       0         1  \n",
              "1       ByBirth       43     560         1  \n",
              "2       ByBirth      280     824         1  \n",
              "3       ByBirth      100       3         1  \n",
              "4  ByOtherMeans      120       0         1  "
            ],
            "text/html": [
              "\n",
              "  <div id=\"df-fad901b6-1099-4a00-82cb-72af726a9bab\">\n",
              "    <div class=\"colab-df-container\">\n",
              "      <div>\n",
              "<style scoped>\n",
              "    .dataframe tbody tr th:only-of-type {\n",
              "        vertical-align: middle;\n",
              "    }\n",
              "\n",
              "    .dataframe tbody tr th {\n",
              "        vertical-align: top;\n",
              "    }\n",
              "\n",
              "    .dataframe thead th {\n",
              "        text-align: right;\n",
              "    }\n",
              "</style>\n",
              "<table border=\"1\" class=\"dataframe\">\n",
              "  <thead>\n",
              "    <tr style=\"text-align: right;\">\n",
              "      <th></th>\n",
              "      <th>Gender</th>\n",
              "      <th>Age</th>\n",
              "      <th>Debt</th>\n",
              "      <th>Married</th>\n",
              "      <th>BankCustomer</th>\n",
              "      <th>Industry</th>\n",
              "      <th>Ethnicity</th>\n",
              "      <th>YearsEmployed</th>\n",
              "      <th>PriorDefault</th>\n",
              "      <th>Employed</th>\n",
              "      <th>CreditScore</th>\n",
              "      <th>DriversLicense</th>\n",
              "      <th>Citizen</th>\n",
              "      <th>ZipCode</th>\n",
              "      <th>Income</th>\n",
              "      <th>Approved</th>\n",
              "    </tr>\n",
              "  </thead>\n",
              "  <tbody>\n",
              "    <tr>\n",
              "      <th>0</th>\n",
              "      <td>1</td>\n",
              "      <td>30.83</td>\n",
              "      <td>0.000</td>\n",
              "      <td>1</td>\n",
              "      <td>1</td>\n",
              "      <td>Industrials</td>\n",
              "      <td>White</td>\n",
              "      <td>1.25</td>\n",
              "      <td>1</td>\n",
              "      <td>1</td>\n",
              "      <td>1</td>\n",
              "      <td>0</td>\n",
              "      <td>ByBirth</td>\n",
              "      <td>202</td>\n",
              "      <td>0</td>\n",
              "      <td>1</td>\n",
              "    </tr>\n",
              "    <tr>\n",
              "      <th>1</th>\n",
              "      <td>0</td>\n",
              "      <td>58.67</td>\n",
              "      <td>4.460</td>\n",
              "      <td>1</td>\n",
              "      <td>1</td>\n",
              "      <td>Materials</td>\n",
              "      <td>Black</td>\n",
              "      <td>3.04</td>\n",
              "      <td>1</td>\n",
              "      <td>1</td>\n",
              "      <td>6</td>\n",
              "      <td>0</td>\n",
              "      <td>ByBirth</td>\n",
              "      <td>43</td>\n",
              "      <td>560</td>\n",
              "      <td>1</td>\n",
              "    </tr>\n",
              "    <tr>\n",
              "      <th>2</th>\n",
              "      <td>0</td>\n",
              "      <td>24.50</td>\n",
              "      <td>0.500</td>\n",
              "      <td>1</td>\n",
              "      <td>1</td>\n",
              "      <td>Materials</td>\n",
              "      <td>Black</td>\n",
              "      <td>1.50</td>\n",
              "      <td>1</td>\n",
              "      <td>0</td>\n",
              "      <td>0</td>\n",
              "      <td>0</td>\n",
              "      <td>ByBirth</td>\n",
              "      <td>280</td>\n",
              "      <td>824</td>\n",
              "      <td>1</td>\n",
              "    </tr>\n",
              "    <tr>\n",
              "      <th>3</th>\n",
              "      <td>1</td>\n",
              "      <td>27.83</td>\n",
              "      <td>1.540</td>\n",
              "      <td>1</td>\n",
              "      <td>1</td>\n",
              "      <td>Industrials</td>\n",
              "      <td>White</td>\n",
              "      <td>3.75</td>\n",
              "      <td>1</td>\n",
              "      <td>1</td>\n",
              "      <td>5</td>\n",
              "      <td>1</td>\n",
              "      <td>ByBirth</td>\n",
              "      <td>100</td>\n",
              "      <td>3</td>\n",
              "      <td>1</td>\n",
              "    </tr>\n",
              "    <tr>\n",
              "      <th>4</th>\n",
              "      <td>1</td>\n",
              "      <td>20.17</td>\n",
              "      <td>5.625</td>\n",
              "      <td>1</td>\n",
              "      <td>1</td>\n",
              "      <td>Industrials</td>\n",
              "      <td>White</td>\n",
              "      <td>1.71</td>\n",
              "      <td>1</td>\n",
              "      <td>0</td>\n",
              "      <td>0</td>\n",
              "      <td>0</td>\n",
              "      <td>ByOtherMeans</td>\n",
              "      <td>120</td>\n",
              "      <td>0</td>\n",
              "      <td>1</td>\n",
              "    </tr>\n",
              "  </tbody>\n",
              "</table>\n",
              "</div>\n",
              "      <button class=\"colab-df-convert\" onclick=\"convertToInteractive('df-fad901b6-1099-4a00-82cb-72af726a9bab')\"\n",
              "              title=\"Convert this dataframe to an interactive table.\"\n",
              "              style=\"display:none;\">\n",
              "        \n",
              "  <svg xmlns=\"http://www.w3.org/2000/svg\" height=\"24px\"viewBox=\"0 0 24 24\"\n",
              "       width=\"24px\">\n",
              "    <path d=\"M0 0h24v24H0V0z\" fill=\"none\"/>\n",
              "    <path d=\"M18.56 5.44l.94 2.06.94-2.06 2.06-.94-2.06-.94-.94-2.06-.94 2.06-2.06.94zm-11 1L8.5 8.5l.94-2.06 2.06-.94-2.06-.94L8.5 2.5l-.94 2.06-2.06.94zm10 10l.94 2.06.94-2.06 2.06-.94-2.06-.94-.94-2.06-.94 2.06-2.06.94z\"/><path d=\"M17.41 7.96l-1.37-1.37c-.4-.4-.92-.59-1.43-.59-.52 0-1.04.2-1.43.59L10.3 9.45l-7.72 7.72c-.78.78-.78 2.05 0 2.83L4 21.41c.39.39.9.59 1.41.59.51 0 1.02-.2 1.41-.59l7.78-7.78 2.81-2.81c.8-.78.8-2.07 0-2.86zM5.41 20L4 18.59l7.72-7.72 1.47 1.35L5.41 20z\"/>\n",
              "  </svg>\n",
              "      </button>\n",
              "      \n",
              "  <style>\n",
              "    .colab-df-container {\n",
              "      display:flex;\n",
              "      flex-wrap:wrap;\n",
              "      gap: 12px;\n",
              "    }\n",
              "\n",
              "    .colab-df-convert {\n",
              "      background-color: #E8F0FE;\n",
              "      border: none;\n",
              "      border-radius: 50%;\n",
              "      cursor: pointer;\n",
              "      display: none;\n",
              "      fill: #1967D2;\n",
              "      height: 32px;\n",
              "      padding: 0 0 0 0;\n",
              "      width: 32px;\n",
              "    }\n",
              "\n",
              "    .colab-df-convert:hover {\n",
              "      background-color: #E2EBFA;\n",
              "      box-shadow: 0px 1px 2px rgba(60, 64, 67, 0.3), 0px 1px 3px 1px rgba(60, 64, 67, 0.15);\n",
              "      fill: #174EA6;\n",
              "    }\n",
              "\n",
              "    [theme=dark] .colab-df-convert {\n",
              "      background-color: #3B4455;\n",
              "      fill: #D2E3FC;\n",
              "    }\n",
              "\n",
              "    [theme=dark] .colab-df-convert:hover {\n",
              "      background-color: #434B5C;\n",
              "      box-shadow: 0px 1px 3px 1px rgba(0, 0, 0, 0.15);\n",
              "      filter: drop-shadow(0px 1px 2px rgba(0, 0, 0, 0.3));\n",
              "      fill: #FFFFFF;\n",
              "    }\n",
              "  </style>\n",
              "\n",
              "      <script>\n",
              "        const buttonEl =\n",
              "          document.querySelector('#df-fad901b6-1099-4a00-82cb-72af726a9bab button.colab-df-convert');\n",
              "        buttonEl.style.display =\n",
              "          google.colab.kernel.accessAllowed ? 'block' : 'none';\n",
              "\n",
              "        async function convertToInteractive(key) {\n",
              "          const element = document.querySelector('#df-fad901b6-1099-4a00-82cb-72af726a9bab');\n",
              "          const dataTable =\n",
              "            await google.colab.kernel.invokeFunction('convertToInteractive',\n",
              "                                                     [key], {});\n",
              "          if (!dataTable) return;\n",
              "\n",
              "          const docLinkHtml = 'Like what you see? Visit the ' +\n",
              "            '<a target=\"_blank\" href=https://colab.research.google.com/notebooks/data_table.ipynb>data table notebook</a>'\n",
              "            + ' to learn more about interactive tables.';\n",
              "          element.innerHTML = '';\n",
              "          dataTable['output_type'] = 'display_data';\n",
              "          await google.colab.output.renderOutput(dataTable, element);\n",
              "          const docLink = document.createElement('div');\n",
              "          docLink.innerHTML = docLinkHtml;\n",
              "          element.appendChild(docLink);\n",
              "        }\n",
              "      </script>\n",
              "    </div>\n",
              "  </div>\n",
              "  "
            ]
          },
          "metadata": {},
          "execution_count": 6403
        }
      ]
    },
    {
      "cell_type": "code",
      "source": [
        "data.isna().sum()"
      ],
      "metadata": {
        "colab": {
          "base_uri": "https://localhost:8080/"
        },
        "id": "ZhpmG3f1O6zK",
        "outputId": "9a4d2eb6-1bba-4fae-8236-dc0db957c079"
      },
      "execution_count": 6404,
      "outputs": [
        {
          "output_type": "execute_result",
          "data": {
            "text/plain": [
              "Gender            0\n",
              "Age               0\n",
              "Debt              0\n",
              "Married           0\n",
              "BankCustomer      0\n",
              "Industry          0\n",
              "Ethnicity         0\n",
              "YearsEmployed     0\n",
              "PriorDefault      0\n",
              "Employed          0\n",
              "CreditScore       0\n",
              "DriversLicense    0\n",
              "Citizen           0\n",
              "ZipCode           0\n",
              "Income            0\n",
              "Approved          0\n",
              "dtype: int64"
            ]
          },
          "metadata": {},
          "execution_count": 6404
        }
      ]
    },
    {
      "cell_type": "code",
      "source": [
        "data.shape"
      ],
      "metadata": {
        "colab": {
          "base_uri": "https://localhost:8080/"
        },
        "id": "QT42uRN_Q5LG",
        "outputId": "f46b7272-4dfb-4cf2-e287-c53f269748f2"
      },
      "execution_count": 6405,
      "outputs": [
        {
          "output_type": "execute_result",
          "data": {
            "text/plain": [
              "(483, 16)"
            ]
          },
          "metadata": {},
          "execution_count": 6405
        }
      ]
    },
    {
      "cell_type": "markdown",
      "source": [
        "Data Minipulation\n",
        "--------------------------"
      ],
      "metadata": {
        "id": "u83jeUdIgVMY"
      }
    },
    {
      "cell_type": "code",
      "source": [
        "me = statistics.mean(data['Debt'])\n",
        "\n",
        "for (i,row) in data.iterrows():\n",
        "  data.at[i,'Debt'] = data.at[i,'Debt'] - me\n",
        "\n",
        "  me = statistics.mean(data2['Debt'])\n",
        "\n",
        "for (i,row) in data2.iterrows():\n",
        "  data2.at[i,'Debt'] = data2.at[i,'Debt'] - me"
      ],
      "metadata": {
        "id": "wAQQqqYQkLLn"
      },
      "execution_count": 6406,
      "outputs": []
    },
    {
      "cell_type": "code",
      "source": [
        "me = statistics.mean(data['Income'])\n",
        "\n",
        "for (i,row) in data.iterrows():\n",
        "  data.at[i,'Income'] = data.at[i,'Income'] - me\n",
        "\n",
        "# me = statistics.mean(data2['Income'])\n",
        "\n",
        "for (i,row) in data2.iterrows():\n",
        "  data2.at[i,'Income'] = data2.at[i,'Income'] - me"
      ],
      "metadata": {
        "id": "4GnvOggRiaYa"
      },
      "execution_count": 6407,
      "outputs": []
    },
    {
      "cell_type": "code",
      "source": [
        "me = statistics.mean(data['Age'])\n",
        "\n",
        "for (i,row) in data.iterrows():\n",
        "  data.at[i,'Age'] = data.at[i,'Age'] - me\n",
        "\n",
        "# me = statistics.mean(data2['Age'])\n",
        "\n",
        "for (i,row) in data2.iterrows():\n",
        "  data2.at[i,'Age'] = data2.at[i,'Age'] - me"
      ],
      "metadata": {
        "id": "6Pwz6yDJll3O"
      },
      "execution_count": 6408,
      "outputs": []
    },
    {
      "cell_type": "code",
      "source": [
        "me = statistics.mean(data['CreditScore'])\n",
        "\n",
        "for (i,row) in data.iterrows():\n",
        "  data.at[i,'CreditScore'] = data.at[i,'CreditScore'] - me\n",
        "\n",
        "# me = statistics.mean(data2['CreditScore'])\n",
        "\n",
        "for (i,row) in data2.iterrows():\n",
        "  data2.at[i,'CreditScore'] = data2.at[i,'CreditScore'] - me"
      ],
      "metadata": {
        "id": "zWUf8-4ooaId"
      },
      "execution_count": 6409,
      "outputs": []
    },
    {
      "cell_type": "code",
      "source": [
        "# data = data.assign( CreditScore2 = data.CreditScore, Debt2 = data.Debt, Income2 = data.Income, Age2 = data.Age)\n",
        "# data2 = data2.assign( CreditScore2 = data2.CreditScore, Debt2 = data2.Debt, Income2 = data2.Income, Age2 = data2.Age)"
      ],
      "metadata": {
        "id": "NYrRQloMQ4Sk"
      },
      "execution_count": 6410,
      "outputs": []
    },
    {
      "cell_type": "code",
      "source": [
        "# data['ByBirth'] = data.Citizen == 'ByBirth'\n",
        "# data2['ByBirth'] = data2.Citizen == 'ByBirth'\n",
        "\n",
        "# data['ByOtherMeans'] = data.Citizen == 'ByOtherMeans'\n",
        "# data2['ByOtherMeans'] = data2.Citizen == 'ByOtherMeans'\n",
        "\n",
        "# data['Temporary'] = data.Citizen == 'Temporary'\n",
        "# data2['Temporary'] = data2.Citizen == 'Temporary'"
      ],
      "metadata": {
        "id": "_t_5cw3MJHRh"
      },
      "execution_count": 6411,
      "outputs": []
    },
    {
      "cell_type": "code",
      "source": [
        "# data['Energy'] = data.Industry == 'Energy'\n",
        "# data2['Energy'] = data2.Industry == 'Energy'\n",
        "\n",
        "# data['Industrials'] = data.Industry == 'Industrials'\n",
        "# data2['Industrials'] = data2.Industry == 'Industrials'\n",
        "\n",
        "# data['ConsumerStaples'] = data.Industry == 'ConsumerStaples'\n",
        "# data2['ConsumerStaples'] = data2.Industry == 'ConsumerStaples'\n",
        "\n",
        "# data['Materials'] = data.Industry == 'Materials'\n",
        "# data2['Materials'] = data2.Industry == 'Materials'\n",
        "\n",
        "# data['Healthcare'] = data.Industry == 'Healthcare'\n",
        "# data2['Healthcare'] = data2.Industry == 'Healthcare'\n",
        "\n",
        "# data['ConsumerDiscretionary'] = data.Industry == 'ConsumerDiscretionary'\n",
        "# data2['ConsumerDiscretionary'] = data2.Industry == 'ConsumerDiscretionary'"
      ],
      "metadata": {
        "id": "8YRO-HiaNY_0"
      },
      "execution_count": 6412,
      "outputs": []
    },
    {
      "cell_type": "code",
      "source": [
        "# arr = ['ConsumerStaples' ,'ConsumerDiscretionary' , 'Industrials']\n",
        "# for (i,row) in data.iterrows():\n",
        "#   if (row.ZipCode in arr):\n",
        "#     data['other'] = True\n",
        "#   else:\n",
        "#     data['other'] = False\n",
        "\n",
        "\n",
        "# # arr = ['ConsumerStaples' ,'ConsumerDiscretionary' , 'Industrials']\n",
        "# for (i,row) in data2.iterrows():\n",
        "#   if (row.ZipCode in arr):\n",
        "#     data2['other'] = True\n",
        "#   else:\n",
        "#     data2['other'] = False"
      ],
      "metadata": {
        "id": "2OnqILxdESbb"
      },
      "execution_count": 6413,
      "outputs": []
    },
    {
      "cell_type": "code",
      "source": [
        "workField = set(data['Industry'])\n",
        "workField = list(workField)\n",
        "\n",
        "for (i,row) in data.iterrows():\n",
        "  data.at[i,'Industry'] = workField.index(row.Industry)\n",
        "\n",
        "for (i,row) in data2.iterrows():\n",
        "  if (row.Industry not in workField):\n",
        "    workField.append(row.Industry)\n",
        "  data2.at[i,'Industry'] = workField.index(row.Industry)"
      ],
      "metadata": {
        "id": "882UFFvVFios"
      },
      "execution_count": 6414,
      "outputs": []
    },
    {
      "cell_type": "code",
      "source": [
        "data2.drop(\"id\", axis=1, inplace=True)"
      ],
      "metadata": {
        "id": "Ty3RYEw9iNHd"
      },
      "execution_count": 6415,
      "outputs": []
    },
    {
      "cell_type": "code",
      "source": [
        "Zcode = set(data['ZipCode'])\n",
        "Zcode = list(Zcode)\n",
        "\n",
        "for (i,row) in data.iterrows():\n",
        "  data.at[i,'ZipCode'] = Zcode.index(row.ZipCode) \n",
        "\n",
        "for (i,row) in data2.iterrows():\n",
        "  if (row.ZipCode not in Zcode):\n",
        "    Zcode.append(row.ZipCode)\n",
        "  data2.at[i,'ZipCode'] = Zcode.index(row.ZipCode) "
      ],
      "metadata": {
        "id": "HSLG5KuyyfLQ"
      },
      "execution_count": 6416,
      "outputs": []
    },
    {
      "cell_type": "code",
      "source": [
        "# data.drop(\"ZipCode\", axis=1, inplace=True)\n",
        "# data2.drop(\"ZipCode\", axis=1, inplace=True)"
      ],
      "metadata": {
        "id": "HpUkW9pch2um"
      },
      "execution_count": 6417,
      "outputs": []
    },
    {
      "cell_type": "code",
      "source": [
        "data.drop(\"Industry\", axis=1, inplace=True)\n",
        "data2.drop(\"Industry\", axis=1, inplace=True)"
      ],
      "metadata": {
        "id": "qyJ839EOWDOv"
      },
      "execution_count": 6418,
      "outputs": []
    },
    {
      "cell_type": "code",
      "source": [
        "data.drop(\"Ethnicity\", axis=1, inplace=True)\n",
        "data2.drop(\"Ethnicity\", axis=1, inplace=True)"
      ],
      "metadata": {
        "id": "H88yUXEweC6i"
      },
      "execution_count": 6419,
      "outputs": []
    },
    {
      "cell_type": "code",
      "source": [
        "data.drop(\"Citizen\", axis=1, inplace=True)\n",
        "data2.drop(\"Citizen\", axis=1, inplace=True)"
      ],
      "metadata": {
        "id": "JnjZfG5XKrwr"
      },
      "execution_count": 6420,
      "outputs": []
    },
    {
      "cell_type": "markdown",
      "source": [
        "TEST\n",
        "--------------------------"
      ],
      "metadata": {
        "id": "Sxd1bnhDfVS_"
      }
    },
    {
      "cell_type": "code",
      "source": [
        "# data.drop(\"YearsEmployed\", axis=1, inplace=True)\n",
        "# data2.drop(\"YearsEmployed\", axis=1, inplace=True)"
      ],
      "metadata": {
        "id": "p6nQjIHprffA"
      },
      "execution_count": 6421,
      "outputs": []
    },
    {
      "cell_type": "code",
      "source": [
        "# data.drop(\"Energy\", axis=1, inplace=True)\n",
        "# data2.drop(\"Energy\", axis=1, inplace=True)\n",
        "\n",
        "# data.drop(\"Materials\", axis=1, inplace=True)\n",
        "# data2.drop(\"Materials\", axis=1, inplace=True)\n",
        "\n",
        "# data.drop(\"Healthcare\", axis=1, inplace=True)\n",
        "# data2.drop(\"Healthcare\", axis=1, inplace=True)"
      ],
      "metadata": {
        "id": "AWuXLNfsJw11"
      },
      "execution_count": 6422,
      "outputs": []
    },
    {
      "cell_type": "code",
      "source": [
        "data.drop(\"Gender\", axis=1, inplace=True)\n",
        "data2.drop(\"Gender\", axis=1, inplace=True)\n",
        "\n",
        "data.drop(\"DriversLicense\", axis=1, inplace=True)\n",
        "data2.drop(\"DriversLicense\", axis=1, inplace=True)\n",
        "\n",
        "data.drop(\"Married\", axis=1, inplace=True)\n",
        "data2.drop(\"Married\", axis=1, inplace=True)\n",
        "\n",
        "data.drop(\"BankCustomer\", axis=1, inplace=True)\n",
        "data2.drop(\"BankCustomer\", axis=1, inplace=True)\n",
        "\n",
        "data.drop(\"Employed\", axis=1, inplace=True)\n",
        "data2.drop(\"Employed\", axis=1, inplace=True)\n",
        "\n",
        "data.drop(\"CreditScore\", axis=1, inplace=True)\n",
        "data2.drop(\"CreditScore\", axis=1, inplace=True)\n",
        "\n",
        "data.drop(\"ZipCode\", axis=1, inplace=True)\n",
        "data2.drop(\"ZipCode\", axis=1, inplace=True)\n",
        "\n",
        "# data.drop(\"YearsEmployed\", axis=1, inplace=True)\n",
        "# data2.drop(\"YearsEmployed\", axis=1, inplace=True)\n",
        "\n",
        "# data.drop(\"Age\", axis=1, inplace=True)\n",
        "# data2.drop(\"Age\", axis=1, inplace=True)"
      ],
      "metadata": {
        "id": "JLVaGgWTHrvQ"
      },
      "execution_count": 6423,
      "outputs": []
    },
    {
      "cell_type": "code",
      "source": [
        "data"
      ],
      "metadata": {
        "colab": {
          "base_uri": "https://localhost:8080/",
          "height": 424
        },
        "id": "SCLfHgTol4gX",
        "outputId": "a896c29c-037c-4617-d57d-953dc5ec4f54"
      },
      "execution_count": 6424,
      "outputs": [
        {
          "output_type": "execute_result",
          "data": {
            "text/plain": [
              "           Age      Debt  YearsEmployed  PriorDefault  Income  Approved\n",
              "0    -0.691863 -4.871077          1.250             1   -1191         1\n",
              "1    27.148137 -0.036570          3.040             1    -631         1\n",
              "2    -7.021863 -3.996570          1.500             1    -367         1\n",
              "3    -3.691863 -2.956570          3.750             1   -1188         1\n",
              "4   -11.351863  1.128430          1.710             1   -1191         1\n",
              "..         ...       ...            ...           ...     ...       ...\n",
              "478  -8.771863  7.003430          0.415             0   -1191         0\n",
              "479  -5.021863 -1.786570          0.085             0   -1191         0\n",
              "480 -14.601863 -3.996570          0.165             0   -1156         0\n",
              "481  -8.021863 -1.331570          0.415             0   -1111         0\n",
              "482 -14.191863  5.003430          1.750             0   -1181         0\n",
              "\n",
              "[483 rows x 6 columns]"
            ],
            "text/html": [
              "\n",
              "  <div id=\"df-84dc0c77-f6c2-4f74-88ab-0d9c9accffd0\">\n",
              "    <div class=\"colab-df-container\">\n",
              "      <div>\n",
              "<style scoped>\n",
              "    .dataframe tbody tr th:only-of-type {\n",
              "        vertical-align: middle;\n",
              "    }\n",
              "\n",
              "    .dataframe tbody tr th {\n",
              "        vertical-align: top;\n",
              "    }\n",
              "\n",
              "    .dataframe thead th {\n",
              "        text-align: right;\n",
              "    }\n",
              "</style>\n",
              "<table border=\"1\" class=\"dataframe\">\n",
              "  <thead>\n",
              "    <tr style=\"text-align: right;\">\n",
              "      <th></th>\n",
              "      <th>Age</th>\n",
              "      <th>Debt</th>\n",
              "      <th>YearsEmployed</th>\n",
              "      <th>PriorDefault</th>\n",
              "      <th>Income</th>\n",
              "      <th>Approved</th>\n",
              "    </tr>\n",
              "  </thead>\n",
              "  <tbody>\n",
              "    <tr>\n",
              "      <th>0</th>\n",
              "      <td>-0.691863</td>\n",
              "      <td>-4.871077</td>\n",
              "      <td>1.250</td>\n",
              "      <td>1</td>\n",
              "      <td>-1191</td>\n",
              "      <td>1</td>\n",
              "    </tr>\n",
              "    <tr>\n",
              "      <th>1</th>\n",
              "      <td>27.148137</td>\n",
              "      <td>-0.036570</td>\n",
              "      <td>3.040</td>\n",
              "      <td>1</td>\n",
              "      <td>-631</td>\n",
              "      <td>1</td>\n",
              "    </tr>\n",
              "    <tr>\n",
              "      <th>2</th>\n",
              "      <td>-7.021863</td>\n",
              "      <td>-3.996570</td>\n",
              "      <td>1.500</td>\n",
              "      <td>1</td>\n",
              "      <td>-367</td>\n",
              "      <td>1</td>\n",
              "    </tr>\n",
              "    <tr>\n",
              "      <th>3</th>\n",
              "      <td>-3.691863</td>\n",
              "      <td>-2.956570</td>\n",
              "      <td>3.750</td>\n",
              "      <td>1</td>\n",
              "      <td>-1188</td>\n",
              "      <td>1</td>\n",
              "    </tr>\n",
              "    <tr>\n",
              "      <th>4</th>\n",
              "      <td>-11.351863</td>\n",
              "      <td>1.128430</td>\n",
              "      <td>1.710</td>\n",
              "      <td>1</td>\n",
              "      <td>-1191</td>\n",
              "      <td>1</td>\n",
              "    </tr>\n",
              "    <tr>\n",
              "      <th>...</th>\n",
              "      <td>...</td>\n",
              "      <td>...</td>\n",
              "      <td>...</td>\n",
              "      <td>...</td>\n",
              "      <td>...</td>\n",
              "      <td>...</td>\n",
              "    </tr>\n",
              "    <tr>\n",
              "      <th>478</th>\n",
              "      <td>-8.771863</td>\n",
              "      <td>7.003430</td>\n",
              "      <td>0.415</td>\n",
              "      <td>0</td>\n",
              "      <td>-1191</td>\n",
              "      <td>0</td>\n",
              "    </tr>\n",
              "    <tr>\n",
              "      <th>479</th>\n",
              "      <td>-5.021863</td>\n",
              "      <td>-1.786570</td>\n",
              "      <td>0.085</td>\n",
              "      <td>0</td>\n",
              "      <td>-1191</td>\n",
              "      <td>0</td>\n",
              "    </tr>\n",
              "    <tr>\n",
              "      <th>480</th>\n",
              "      <td>-14.601863</td>\n",
              "      <td>-3.996570</td>\n",
              "      <td>0.165</td>\n",
              "      <td>0</td>\n",
              "      <td>-1156</td>\n",
              "      <td>0</td>\n",
              "    </tr>\n",
              "    <tr>\n",
              "      <th>481</th>\n",
              "      <td>-8.021863</td>\n",
              "      <td>-1.331570</td>\n",
              "      <td>0.415</td>\n",
              "      <td>0</td>\n",
              "      <td>-1111</td>\n",
              "      <td>0</td>\n",
              "    </tr>\n",
              "    <tr>\n",
              "      <th>482</th>\n",
              "      <td>-14.191863</td>\n",
              "      <td>5.003430</td>\n",
              "      <td>1.750</td>\n",
              "      <td>0</td>\n",
              "      <td>-1181</td>\n",
              "      <td>0</td>\n",
              "    </tr>\n",
              "  </tbody>\n",
              "</table>\n",
              "<p>483 rows × 6 columns</p>\n",
              "</div>\n",
              "      <button class=\"colab-df-convert\" onclick=\"convertToInteractive('df-84dc0c77-f6c2-4f74-88ab-0d9c9accffd0')\"\n",
              "              title=\"Convert this dataframe to an interactive table.\"\n",
              "              style=\"display:none;\">\n",
              "        \n",
              "  <svg xmlns=\"http://www.w3.org/2000/svg\" height=\"24px\"viewBox=\"0 0 24 24\"\n",
              "       width=\"24px\">\n",
              "    <path d=\"M0 0h24v24H0V0z\" fill=\"none\"/>\n",
              "    <path d=\"M18.56 5.44l.94 2.06.94-2.06 2.06-.94-2.06-.94-.94-2.06-.94 2.06-2.06.94zm-11 1L8.5 8.5l.94-2.06 2.06-.94-2.06-.94L8.5 2.5l-.94 2.06-2.06.94zm10 10l.94 2.06.94-2.06 2.06-.94-2.06-.94-.94-2.06-.94 2.06-2.06.94z\"/><path d=\"M17.41 7.96l-1.37-1.37c-.4-.4-.92-.59-1.43-.59-.52 0-1.04.2-1.43.59L10.3 9.45l-7.72 7.72c-.78.78-.78 2.05 0 2.83L4 21.41c.39.39.9.59 1.41.59.51 0 1.02-.2 1.41-.59l7.78-7.78 2.81-2.81c.8-.78.8-2.07 0-2.86zM5.41 20L4 18.59l7.72-7.72 1.47 1.35L5.41 20z\"/>\n",
              "  </svg>\n",
              "      </button>\n",
              "      \n",
              "  <style>\n",
              "    .colab-df-container {\n",
              "      display:flex;\n",
              "      flex-wrap:wrap;\n",
              "      gap: 12px;\n",
              "    }\n",
              "\n",
              "    .colab-df-convert {\n",
              "      background-color: #E8F0FE;\n",
              "      border: none;\n",
              "      border-radius: 50%;\n",
              "      cursor: pointer;\n",
              "      display: none;\n",
              "      fill: #1967D2;\n",
              "      height: 32px;\n",
              "      padding: 0 0 0 0;\n",
              "      width: 32px;\n",
              "    }\n",
              "\n",
              "    .colab-df-convert:hover {\n",
              "      background-color: #E2EBFA;\n",
              "      box-shadow: 0px 1px 2px rgba(60, 64, 67, 0.3), 0px 1px 3px 1px rgba(60, 64, 67, 0.15);\n",
              "      fill: #174EA6;\n",
              "    }\n",
              "\n",
              "    [theme=dark] .colab-df-convert {\n",
              "      background-color: #3B4455;\n",
              "      fill: #D2E3FC;\n",
              "    }\n",
              "\n",
              "    [theme=dark] .colab-df-convert:hover {\n",
              "      background-color: #434B5C;\n",
              "      box-shadow: 0px 1px 3px 1px rgba(0, 0, 0, 0.15);\n",
              "      filter: drop-shadow(0px 1px 2px rgba(0, 0, 0, 0.3));\n",
              "      fill: #FFFFFF;\n",
              "    }\n",
              "  </style>\n",
              "\n",
              "      <script>\n",
              "        const buttonEl =\n",
              "          document.querySelector('#df-84dc0c77-f6c2-4f74-88ab-0d9c9accffd0 button.colab-df-convert');\n",
              "        buttonEl.style.display =\n",
              "          google.colab.kernel.accessAllowed ? 'block' : 'none';\n",
              "\n",
              "        async function convertToInteractive(key) {\n",
              "          const element = document.querySelector('#df-84dc0c77-f6c2-4f74-88ab-0d9c9accffd0');\n",
              "          const dataTable =\n",
              "            await google.colab.kernel.invokeFunction('convertToInteractive',\n",
              "                                                     [key], {});\n",
              "          if (!dataTable) return;\n",
              "\n",
              "          const docLinkHtml = 'Like what you see? Visit the ' +\n",
              "            '<a target=\"_blank\" href=https://colab.research.google.com/notebooks/data_table.ipynb>data table notebook</a>'\n",
              "            + ' to learn more about interactive tables.';\n",
              "          element.innerHTML = '';\n",
              "          dataTable['output_type'] = 'display_data';\n",
              "          await google.colab.output.renderOutput(dataTable, element);\n",
              "          const docLink = document.createElement('div');\n",
              "          docLink.innerHTML = docLinkHtml;\n",
              "          element.appendChild(docLink);\n",
              "        }\n",
              "      </script>\n",
              "    </div>\n",
              "  </div>\n",
              "  "
            ]
          },
          "metadata": {},
          "execution_count": 6424
        }
      ]
    },
    {
      "cell_type": "markdown",
      "source": [
        "Predict\n",
        "--------------------------"
      ],
      "metadata": {
        "id": "DDC4LI9Xfwh5"
      }
    },
    {
      "cell_type": "code",
      "source": [
        "X = data.drop(\"Approved\", axis=1)\n",
        "y = data[\"Approved\"]"
      ],
      "metadata": {
        "id": "rPbB9VYbe11U"
      },
      "execution_count": 6425,
      "outputs": []
    },
    {
      "cell_type": "code",
      "source": [
        "x_train, x_test, y_train, y_test = train_test_split(X,y,test_size= .6)"
      ],
      "metadata": {
        "id": "L-1beNPBePoZ"
      },
      "execution_count": 6426,
      "outputs": []
    },
    {
      "cell_type": "code",
      "source": [
        "classifier= DecisionTreeClassifier(criterion='gini')\n",
        "#Check Random Forest Please"
      ],
      "metadata": {
        "id": "qKEkB82re-4p"
      },
      "execution_count": 6427,
      "outputs": []
    },
    {
      "cell_type": "code",
      "source": [
        "# from sklearn.ensemble import RandomForestClassifier\n",
        "# classifier=RandomForestClassifier(n_estimators=11)"
      ],
      "metadata": {
        "id": "31N6EA3dUFOb"
      },
      "execution_count": 6428,
      "outputs": []
    },
    {
      "cell_type": "code",
      "source": [
        "# from sklearn.model_selection import train_test_split\n",
        "# classifier = KNeighborsClassifier(n_neighbors=3)"
      ],
      "metadata": {
        "id": "5YuMCEGQIP09"
      },
      "execution_count": 6429,
      "outputs": []
    },
    {
      "cell_type": "code",
      "source": [
        "# from sklearn.linear_model import LogisticRegression\n",
        "# from sklearn.metrics import classification_report, confusion_matrix\n",
        "\n",
        "# classifier = LogisticRegression(penalty='l1',solver='liblinear', C = 4)\n",
        "# #The Classfier i Submited"
      ],
      "metadata": {
        "id": "Bsfgc4K9HnrO"
      },
      "execution_count": 6430,
      "outputs": []
    },
    {
      "cell_type": "code",
      "source": [
        "# # classifier = RandomForestClassifier(n_estimators=950,\n",
        "# #                               max_depth=21,\n",
        "# #                               min_samples_leaf=16\n",
        "# #                               )\n",
        "# classifier = RandomForestClassifier(n_estimators=950)"
      ],
      "metadata": {
        "id": "FbeTpEvtuVLe"
      },
      "execution_count": 6431,
      "outputs": []
    },
    {
      "cell_type": "code",
      "source": [
        "classifier.fit(x_train, y_train)"
      ],
      "metadata": {
        "id": "4NVXSnMniyGM",
        "colab": {
          "base_uri": "https://localhost:8080/"
        },
        "outputId": "d6172516-f41f-42d8-c8d7-c52a515dcfd6"
      },
      "execution_count": 6432,
      "outputs": [
        {
          "output_type": "execute_result",
          "data": {
            "text/plain": [
              "DecisionTreeClassifier()"
            ]
          },
          "metadata": {},
          "execution_count": 6432
        }
      ]
    },
    {
      "cell_type": "code",
      "source": [
        "y_predict = classifier.predict(data2)"
      ],
      "metadata": {
        "id": "hXfr-AjX1smF"
      },
      "execution_count": 6433,
      "outputs": []
    },
    {
      "cell_type": "code",
      "source": [
        "pd.DataFrame(y_predict).to_csv('predictied.csv')"
      ],
      "metadata": {
        "id": "Wy9hkC1fLopD"
      },
      "execution_count": 6434,
      "outputs": []
    },
    {
      "cell_type": "code",
      "source": [
        "# y_predict.sum()"
      ],
      "metadata": {
        "id": "vP_rpsaH68Rn"
      },
      "execution_count": 6435,
      "outputs": []
    },
    {
      "cell_type": "code",
      "source": [
        "y_predict = classifier.predict(x_test)"
      ],
      "metadata": {
        "id": "KNXt7Ta0d9YR"
      },
      "execution_count": 6436,
      "outputs": []
    },
    {
      "cell_type": "code",
      "source": [
        "metrics.accuracy_score(y_test, y_predict)"
      ],
      "metadata": {
        "id": "cnMGWoSe1tnk",
        "colab": {
          "base_uri": "https://localhost:8080/"
        },
        "outputId": "2795d422-fe3d-4ecf-955b-df8861e7915a"
      },
      "execution_count": 6437,
      "outputs": [
        {
          "output_type": "execute_result",
          "data": {
            "text/plain": [
              "0.7620689655172413"
            ]
          },
          "metadata": {},
          "execution_count": 6437
        }
      ]
    },
    {
      "cell_type": "code",
      "source": [
        "feature_imp = pd.Series(classifier.feature_importances_,\n",
        "                        index=X.columns).sort_values(ascending=False)\n",
        "feature_imp"
      ],
      "metadata": {
        "colab": {
          "base_uri": "https://localhost:8080/"
        },
        "id": "TzM1uXFGB-8O",
        "outputId": "b2d1b962-afd1-4112-99ba-491930816404"
      },
      "execution_count": 6438,
      "outputs": [
        {
          "output_type": "execute_result",
          "data": {
            "text/plain": [
              "PriorDefault     0.557061\n",
              "Debt             0.172217\n",
              "YearsEmployed    0.118171\n",
              "Age              0.097299\n",
              "Income           0.055252\n",
              "dtype: float64"
            ]
          },
          "metadata": {},
          "execution_count": 6438
        }
      ]
    },
    {
      "cell_type": "code",
      "source": [
        "sns.barplot(x=feature_imp, y=feature_imp.index)\n",
        "# Add labels to your graph\n",
        "plt.xlabel('Feature Importance Score')\n",
        "plt.ylabel('Features')\n",
        "# plt.title(\"Visualizing Important Features\")\n",
        "plt.legend()\n",
        "plt.show()"
      ],
      "metadata": {
        "colab": {
          "base_uri": "https://localhost:8080/",
          "height": 296
        },
        "id": "lrky1dvVA7GA",
        "outputId": "53b3e399-c532-4308-dd2d-54b8a8d28a21"
      },
      "execution_count": 6439,
      "outputs": [
        {
          "output_type": "stream",
          "name": "stderr",
          "text": [
            "WARNING:matplotlib.legend:No handles with labels found to put in legend.\n"
          ]
        },
        {
          "output_type": "display_data",
          "data": {
            "text/plain": [
              "<Figure size 432x288 with 1 Axes>"
            ],
            "image/png": "[encoded data removed]"
          },
          "metadata": {
            "needs_background": "light"
          }
        }
      ]
    }
  ]
}