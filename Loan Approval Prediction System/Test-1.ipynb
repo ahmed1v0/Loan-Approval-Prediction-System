{
  "nbformat": 4,
  "nbformat_minor": 0,
  "metadata": {
    "colab": {
      "provenance": []
    },
    "kernelspec": {
      "name": "python3",
      "display_name": "Python 3"
    },
    "language_info": {
      "name": "python"
    }
  },
  "cells": [
    {
      "cell_type": "markdown",
      "source": [
        "Library\n",
        "--------------------------"
      ],
      "metadata": {
        "id": "eBsBt7ZEgCnP"
      }
    },
    {
      "cell_type": "code",
      "execution_count": 5135,
      "metadata": {
        "id": "boMf3s0FLqeP"
      },
      "outputs": [],
      "source": [
        "from sklearn.svm import SVC\n",
        "import pandas as pd\n",
        "import numpy as np\n",
        "import matplotlib.pyplot as plt\n",
        "%matplotlib inline\n",
        "from sklearn.svm import SVC\n",
        "from sklearn.model_selection import train_test_split\n",
        "from sklearn import tree\n",
        "from sklearn.tree import DecisionTreeClassifier\n",
        "from sklearn import metrics\n",
        "from sklearn.neighbors import KNeighborsClassifier\n",
        "import statistics\n",
        "from sklearn.ensemble import RandomForestClassifier\n",
        "\n",
        "import matplotlib.pyplot as plt\n",
        "import seaborn as sns\n",
        "%matplotlib inline"
      ]
    },
    {
      "cell_type": "markdown",
      "source": [
        "Files\n",
        "--------------------------"
      ],
      "metadata": {
        "id": "eygQU9uigI9S"
      }
    },
    {
      "cell_type": "code",
      "source": [
        "data = pd.read_csv('Credit_Card_Train.csv')\n",
        "data2 = pd.read_csv('Credit_Card_X_Test.csv')"
      ],
      "metadata": {
        "id": "X-FGw1idL0Cd"
      },
      "execution_count": 5136,
      "outputs": []
    },
    {
      "cell_type": "markdown",
      "source": [
        "Understanding Data\n",
        "--------------------------"
      ],
      "metadata": {
        "id": "YXKcrER2gLyy"
      }
    },
    {
      "cell_type": "code",
      "source": [
        "data.head()"
      ],
      "metadata": {
        "colab": {
          "base_uri": "https://localhost:8080/",
          "height": 206
        },
        "id": "IWzexQ8PMJOj",
        "outputId": "ba831f4f-e71c-4caa-9afc-49768b09c4c1"
      },
      "execution_count": 5137,
      "outputs": [
        {
          "output_type": "execute_result",
          "data": {
            "text/plain": [
              "   Gender    Age   Debt  Married  BankCustomer     Industry Ethnicity  \\\n",
              "0       1  30.83  0.000        1             1  Industrials     White   \n",
              "1       0  58.67  4.460        1             1    Materials     Black   \n",
              "2       0  24.50  0.500        1             1    Materials     Black   \n",
              "3       1  27.83  1.540        1             1  Industrials     White   \n",
              "4       1  20.17  5.625        1             1  Industrials     White   \n",
              "\n",
              "   YearsEmployed  PriorDefault  Employed  CreditScore  DriversLicense  \\\n",
              "0           1.25             1         1            1               0   \n",
              "1           3.04             1         1            6               0   \n",
              "2           1.50             1         0            0               0   \n",
              "3           3.75             1         1            5               1   \n",
              "4           1.71             1         0            0               0   \n",
              "\n",
              "        Citizen  ZipCode  Income  Approved  \n",
              "0       ByBirth      202       0         1  \n",
              "1       ByBirth       43     560         1  \n",
              "2       ByBirth      280     824         1  \n",
              "3       ByBirth      100       3         1  \n",
              "4  ByOtherMeans      120       0         1  "
            ],
            "text/html": [
              "\n",
              "  <div id=\"df-90af50eb-9568-4376-a6e5-82f9bcab59f6\">\n",
              "    <div class=\"colab-df-container\">\n",
              "      <div>\n",
              "<style scoped>\n",
              "    .dataframe tbody tr th:only-of-type {\n",
              "        vertical-align: middle;\n",
              "    }\n",
              "\n",
              "    .dataframe tbody tr th {\n",
              "        vertical-align: top;\n",
              "    }\n",
              "\n",
              "    .dataframe thead th {\n",
              "        text-align: right;\n",
              "    }\n",
              "</style>\n",
              "<table border=\"1\" class=\"dataframe\">\n",
              "  <thead>\n",
              "    <tr style=\"text-align: right;\">\n",
              "      <th></th>\n",
              "      <th>Gender</th>\n",
              "      <th>Age</th>\n",
              "      <th>Debt</th>\n",
              "      <th>Married</th>\n",
              "      <th>BankCustomer</th>\n",
              "      <th>Industry</th>\n",
              "      <th>Ethnicity</th>\n",
              "      <th>YearsEmployed</th>\n",
              "      <th>PriorDefault</th>\n",
              "      <th>Employed</th>\n",
              "      <th>CreditScore</th>\n",
              "      <th>DriversLicense</th>\n",
              "      <th>Citizen</th>\n",
              "      <th>ZipCode</th>\n",
              "      <th>Income</th>\n",
              "      <th>Approved</th>\n",
              "    </tr>\n",
              "  </thead>\n",
              "  <tbody>\n",
              "    <tr>\n",
              "      <th>0</th>\n",
              "      <td>1</td>\n",
              "      <td>30.83</td>\n",
              "      <td>0.000</td>\n",
              "      <td>1</td>\n",
              "      <td>1</td>\n",
              "      <td>Industrials</td>\n",
              "      <td>White</td>\n",
              "      <td>1.25</td>\n",
              "      <td>1</td>\n",
              "      <td>1</td>\n",
              "      <td>1</td>\n",
              "      <td>0</td>\n",
              "      <td>ByBirth</td>\n",
              "      <td>202</td>\n",
              "      <td>0</td>\n",
              "      <td>1</td>\n",
              "    </tr>\n",
              "    <tr>\n",
              "      <th>1</th>\n",
              "      <td>0</td>\n",
              "      <td>58.67</td>\n",
              "      <td>4.460</td>\n",
              "      <td>1</td>\n",
              "      <td>1</td>\n",
              "      <td>Materials</td>\n",
              "      <td>Black</td>\n",
              "      <td>3.04</td>\n",
              "      <td>1</td>\n",
              "      <td>1</td>\n",
              "      <td>6</td>\n",
              "      <td>0</td>\n",
              "      <td>ByBirth</td>\n",
              "      <td>43</td>\n",
              "      <td>560</td>\n",
              "      <td>1</td>\n",
              "    </tr>\n",
              "    <tr>\n",
              "      <th>2</th>\n",
              "      <td>0</td>\n",
              "      <td>24.50</td>\n",
              "      <td>0.500</td>\n",
              "      <td>1</td>\n",
              "      <td>1</td>\n",
              "      <td>Materials</td>\n",
              "      <td>Black</td>\n",
              "      <td>1.50</td>\n",
              "      <td>1</td>\n",
              "      <td>0</td>\n",
              "      <td>0</td>\n",
              "      <td>0</td>\n",
              "      <td>ByBirth</td>\n",
              "      <td>280</td>\n",
              "      <td>824</td>\n",
              "      <td>1</td>\n",
              "    </tr>\n",
              "    <tr>\n",
              "      <th>3</th>\n",
              "      <td>1</td>\n",
              "      <td>27.83</td>\n",
              "      <td>1.540</td>\n",
              "      <td>1</td>\n",
              "      <td>1</td>\n",
              "      <td>Industrials</td>\n",
              "      <td>White</td>\n",
              "      <td>3.75</td>\n",
              "      <td>1</td>\n",
              "      <td>1</td>\n",
              "      <td>5</td>\n",
              "      <td>1</td>\n",
              "      <td>ByBirth</td>\n",
              "      <td>100</td>\n",
              "      <td>3</td>\n",
              "      <td>1</td>\n",
              "    </tr>\n",
              "    <tr>\n",
              "      <th>4</th>\n",
              "      <td>1</td>\n",
              "      <td>20.17</td>\n",
              "      <td>5.625</td>\n",
              "      <td>1</td>\n",
              "      <td>1</td>\n",
              "      <td>Industrials</td>\n",
              "      <td>White</td>\n",
              "      <td>1.71</td>\n",
              "      <td>1</td>\n",
              "      <td>0</td>\n",
              "      <td>0</td>\n",
              "      <td>0</td>\n",
              "      <td>ByOtherMeans</td>\n",
              "      <td>120</td>\n",
              "      <td>0</td>\n",
              "      <td>1</td>\n",
              "    </tr>\n",
              "  </tbody>\n",
              "</table>\n",
              "</div>\n",
              "      <button class=\"colab-df-convert\" onclick=\"convertToInteractive('df-90af50eb-9568-4376-a6e5-82f9bcab59f6')\"\n",
              "              title=\"Convert this dataframe to an interactive table.\"\n",
              "              style=\"display:none;\">\n",
              "        \n",
              "  <svg xmlns=\"http://www.w3.org/2000/svg\" height=\"24px\"viewBox=\"0 0 24 24\"\n",
              "       width=\"24px\">\n",
              "    <path d=\"M0 0h24v24H0V0z\" fill=\"none\"/>\n",
              "    <path d=\"M18.56 5.44l.94 2.06.94-2.06 2.06-.94-2.06-.94-.94-2.06-.94 2.06-2.06.94zm-11 1L8.5 8.5l.94-2.06 2.06-.94-2.06-.94L8.5 2.5l-.94 2.06-2.06.94zm10 10l.94 2.06.94-2.06 2.06-.94-2.06-.94-.94-2.06-.94 2.06-2.06.94z\"/><path d=\"M17.41 7.96l-1.37-1.37c-.4-.4-.92-.59-1.43-.59-.52 0-1.04.2-1.43.59L10.3 9.45l-7.72 7.72c-.78.78-.78 2.05 0 2.83L4 21.41c.39.39.9.59 1.41.59.51 0 1.02-.2 1.41-.59l7.78-7.78 2.81-2.81c.8-.78.8-2.07 0-2.86zM5.41 20L4 18.59l7.72-7.72 1.47 1.35L5.41 20z\"/>\n",
              "  </svg>\n",
              "      </button>\n",
              "      \n",
              "  <style>\n",
              "    .colab-df-container {\n",
              "      display:flex;\n",
              "      flex-wrap:wrap;\n",
              "      gap: 12px;\n",
              "    }\n",
              "\n",
              "    .colab-df-convert {\n",
              "      background-color: #E8F0FE;\n",
              "      border: none;\n",
              "      border-radius: 50%;\n",
              "      cursor: pointer;\n",
              "      display: none;\n",
              "      fill: #1967D2;\n",
              "      height: 32px;\n",
              "      padding: 0 0 0 0;\n",
              "      width: 32px;\n",
              "    }\n",
              "\n",
              "    .colab-df-convert:hover {\n",
              "      background-color: #E2EBFA;\n",
              "      box-shadow: 0px 1px 2px rgba(60, 64, 67, 0.3), 0px 1px 3px 1px rgba(60, 64, 67, 0.15);\n",
              "      fill: #174EA6;\n",
              "    }\n",
              "\n",
              "    [theme=dark] .colab-df-convert {\n",
              "      background-color: #3B4455;\n",
              "      fill: #D2E3FC;\n",
              "    }\n",
              "\n",
              "    [theme=dark] .colab-df-convert:hover {\n",
              "      background-color: #434B5C;\n",
              "      box-shadow: 0px 1px 3px 1px rgba(0, 0, 0, 0.15);\n",
              "      filter: drop-shadow(0px 1px 2px rgba(0, 0, 0, 0.3));\n",
              "      fill: #FFFFFF;\n",
              "    }\n",
              "  </style>\n",
              "\n",
              "      <script>\n",
              "        const buttonEl =\n",
              "          document.querySelector('#df-90af50eb-9568-4376-a6e5-82f9bcab59f6 button.colab-df-convert');\n",
              "        buttonEl.style.display =\n",
              "          google.colab.kernel.accessAllowed ? 'block' : 'none';\n",
              "\n",
              "        async function convertToInteractive(key) {\n",
              "          const element = document.querySelector('#df-90af50eb-9568-4376-a6e5-82f9bcab59f6');\n",
              "          const dataTable =\n",
              "            await google.colab.kernel.invokeFunction('convertToInteractive',\n",
              "                                                     [key], {});\n",
              "          if (!dataTable) return;\n",
              "\n",
              "          const docLinkHtml = 'Like what you see? Visit the ' +\n",
              "            '<a target=\"_blank\" href=https://colab.research.google.com/notebooks/data_table.ipynb>data table notebook</a>'\n",
              "            + ' to learn more about interactive tables.';\n",
              "          element.innerHTML = '';\n",
              "          dataTable['output_type'] = 'display_data';\n",
              "          await google.colab.output.renderOutput(dataTable, element);\n",
              "          const docLink = document.createElement('div');\n",
              "          docLink.innerHTML = docLinkHtml;\n",
              "          element.appendChild(docLink);\n",
              "        }\n",
              "      </script>\n",
              "    </div>\n",
              "  </div>\n",
              "  "
            ]
          },
          "metadata": {},
          "execution_count": 5137
        }
      ]
    },
    {
      "cell_type": "code",
      "source": [
        "data.isna().sum()"
      ],
      "metadata": {
        "colab": {
          "base_uri": "https://localhost:8080/"
        },
        "id": "ZhpmG3f1O6zK",
        "outputId": "af3d5e2a-ba80-4813-c894-5983e09b9405"
      },
      "execution_count": 5138,
      "outputs": [
        {
          "output_type": "execute_result",
          "data": {
            "text/plain": [
              "Gender            0\n",
              "Age               0\n",
              "Debt              0\n",
              "Married           0\n",
              "BankCustomer      0\n",
              "Industry          0\n",
              "Ethnicity         0\n",
              "YearsEmployed     0\n",
              "PriorDefault      0\n",
              "Employed          0\n",
              "CreditScore       0\n",
              "DriversLicense    0\n",
              "Citizen           0\n",
              "ZipCode           0\n",
              "Income            0\n",
              "Approved          0\n",
              "dtype: int64"
            ]
          },
          "metadata": {},
          "execution_count": 5138
        }
      ]
    },
    {
      "cell_type": "code",
      "source": [
        "data.shape"
      ],
      "metadata": {
        "colab": {
          "base_uri": "https://localhost:8080/"
        },
        "id": "QT42uRN_Q5LG",
        "outputId": "f0211b93-199a-49f0-9c33-454e850726a6"
      },
      "execution_count": 5139,
      "outputs": [
        {
          "output_type": "execute_result",
          "data": {
            "text/plain": [
              "(483, 16)"
            ]
          },
          "metadata": {},
          "execution_count": 5139
        }
      ]
    },
    {
      "cell_type": "markdown",
      "source": [
        "Data Minipulation\n",
        "--------------------------"
      ],
      "metadata": {
        "id": "u83jeUdIgVMY"
      }
    },
    {
      "cell_type": "code",
      "source": [
        "me = statistics.mean(data['Debt'])\n",
        "\n",
        "for (i,row) in data.iterrows():\n",
        "  data.at[i,'Debt'] = data.at[i,'Debt'] - me\n",
        "\n",
        "  me = statistics.mean(data2['Debt'])\n",
        "\n",
        "for (i,row) in data2.iterrows():\n",
        "  data2.at[i,'Debt'] = data2.at[i,'Debt'] - me"
      ],
      "metadata": {
        "id": "wAQQqqYQkLLn"
      },
      "execution_count": 5140,
      "outputs": []
    },
    {
      "cell_type": "code",
      "source": [
        "me = statistics.mean(data['Income'])\n",
        "\n",
        "for (i,row) in data.iterrows():\n",
        "  data.at[i,'Income'] = data.at[i,'Income'] - me\n",
        "\n",
        "me = statistics.mean(data2['Income'])\n",
        "\n",
        "for (i,row) in data2.iterrows():\n",
        "  data2.at[i,'Income'] = data2.at[i,'Income'] - me"
      ],
      "metadata": {
        "id": "4GnvOggRiaYa"
      },
      "execution_count": 5141,
      "outputs": []
    },
    {
      "cell_type": "code",
      "source": [
        "me = statistics.mean(data['Age'])\n",
        "\n",
        "for (i,row) in data.iterrows():\n",
        "  data.at[i,'Age'] = data.at[i,'Age'] - me\n",
        "\n",
        "me = statistics.mean(data2['Age'])\n",
        "\n",
        "for (i,row) in data2.iterrows():\n",
        "  data2.at[i,'Age'] = data2.at[i,'Age'] - me"
      ],
      "metadata": {
        "id": "6Pwz6yDJll3O"
      },
      "execution_count": 5142,
      "outputs": []
    },
    {
      "cell_type": "code",
      "source": [
        "me = statistics.mean(data['CreditScore'])\n",
        "\n",
        "for (i,row) in data.iterrows():\n",
        "  data.at[i,'CreditScore'] = data.at[i,'CreditScore'] - me\n",
        "\n",
        "me = statistics.mean(data2['CreditScore'])\n",
        "\n",
        "for (i,row) in data2.iterrows():\n",
        "  data2.at[i,'CreditScore'] = data2.at[i,'CreditScore'] - me"
      ],
      "metadata": {
        "id": "zWUf8-4ooaId"
      },
      "execution_count": 5143,
      "outputs": []
    },
    {
      "cell_type": "code",
      "source": [
        "# data = data.assign( CreditScore2 = data.CreditScore, Debt2 = data.Debt, Income2 = data.Income, Age2 = data.Age)\n",
        "# data2 = data2.assign( CreditScore2 = data2.CreditScore, Debt2 = data2.Debt, Income2 = data2.Income, Age2 = data2.Age)"
      ],
      "metadata": {
        "id": "NYrRQloMQ4Sk"
      },
      "execution_count": 5144,
      "outputs": []
    },
    {
      "cell_type": "code",
      "source": [
        "# data['ByBirth'] = data.Citizen == 'ByBirth'\n",
        "# data2['ByBirth'] = data2.Citizen == 'ByBirth'\n",
        "\n",
        "# data['ByOtherMeans'] = data.Citizen == 'ByOtherMeans'\n",
        "# data2['ByOtherMeans'] = data2.Citizen == 'ByOtherMeans'\n",
        "\n",
        "# data['Temporary'] = data.Citizen == 'Temporary'\n",
        "# data2['Temporary'] = data2.Citizen == 'Temporary'"
      ],
      "metadata": {
        "id": "_t_5cw3MJHRh"
      },
      "execution_count": 5145,
      "outputs": []
    },
    {
      "cell_type": "code",
      "source": [
        "data['Energy'] = data.Industry == 'Energy'\n",
        "data2['Energy'] = data2.Industry == 'Energy'\n",
        "\n",
        "# data['Industrials'] = data.Industry == 'Industrials'\n",
        "# data2['Industrials'] = data2.Industry == 'Industrials'\n",
        "\n",
        "# data['ConsumerStaples'] = data.Industry == 'ConsumerStaples' || data.Industry =='ConsumerDiscretionary' || data.Industry =='Industrials'\n",
        "# data2['ConsumerStaples'] = data2.Industry == 'ConsumerStaples' || 'ConsumerDiscretionary' || 'Industrials'\n",
        "\n",
        "data['Materials'] = data.Industry == 'Materials'\n",
        "data2['Materials'] = data2.Industry == 'Materials'\n",
        "\n",
        "data['Healthcare'] = data.Industry == 'Healthcare'\n",
        "data2['Healthcare'] = data2.Industry == 'Healthcare'\n",
        "\n",
        "# data['ConsumerDiscretionary'] = data.Industry == 'ConsumerDiscretionary'\n",
        "# data2['ConsumerDiscretionary'] = data2.Industry == 'ConsumerDiscretionary'"
      ],
      "metadata": {
        "id": "8YRO-HiaNY_0"
      },
      "execution_count": 5146,
      "outputs": []
    },
    {
      "cell_type": "code",
      "source": [
        "# arr = ['ConsumerStaples' ,'ConsumerDiscretionary' , 'Industrials']\n",
        "# for (i,row) in data.iterrows():\n",
        "#   if (row.ZipCode in arr):\n",
        "#     data['other'] = True\n",
        "#   else:\n",
        "#     data['other'] = False\n",
        "\n",
        "\n",
        "# # arr = ['ConsumerStaples' ,'ConsumerDiscretionary' , 'Industrials']\n",
        "# for (i,row) in data2.iterrows():\n",
        "#   if (row.ZipCode in arr):\n",
        "#     data2['other'] = True\n",
        "#   else:\n",
        "#     data2['other'] = False"
      ],
      "metadata": {
        "id": "2OnqILxdESbb"
      },
      "execution_count": 5147,
      "outputs": []
    },
    {
      "cell_type": "code",
      "source": [
        "workField = set(data['Industry'])\n",
        "workField = list(workField)\n",
        "\n",
        "for (i,row) in data.iterrows():\n",
        "  data.at[i,'Industry'] = workField.index(row.Industry)\n",
        "\n",
        "for (i,row) in data2.iterrows():\n",
        "  if (row.Industry not in workField):\n",
        "    workField.append(row.Industry)\n",
        "  data2.at[i,'Industry'] = workField.index(row.Industry)"
      ],
      "metadata": {
        "id": "882UFFvVFios"
      },
      "execution_count": 5148,
      "outputs": []
    },
    {
      "cell_type": "code",
      "source": [
        "data2.drop(\"id\", axis=1, inplace=True)"
      ],
      "metadata": {
        "id": "Ty3RYEw9iNHd"
      },
      "execution_count": 5149,
      "outputs": []
    },
    {
      "cell_type": "code",
      "source": [
        "Zcode = set(data['ZipCode'])\n",
        "Zcode = list(Zcode)\n",
        "\n",
        "for (i,row) in data.iterrows():\n",
        "  data.at[i,'ZipCode'] = Zcode.index(row.ZipCode) \n",
        "\n",
        "for (i,row) in data2.iterrows():\n",
        "  if (row.ZipCode not in Zcode):\n",
        "    Zcode.append(row.ZipCode)\n",
        "  data2.at[i,'ZipCode'] = Zcode.index(row.ZipCode) "
      ],
      "metadata": {
        "id": "HSLG5KuyyfLQ"
      },
      "execution_count": 5150,
      "outputs": []
    },
    {
      "cell_type": "code",
      "source": [
        "# data.drop(\"ZipCode\", axis=1, inplace=True)\n",
        "# data2.drop(\"ZipCode\", axis=1, inplace=True)"
      ],
      "metadata": {
        "id": "HpUkW9pch2um"
      },
      "execution_count": 5151,
      "outputs": []
    },
    {
      "cell_type": "code",
      "source": [
        "# data.drop(\"Industry\", axis=1, inplace=True)\n",
        "# data2.drop(\"Industry\", axis=1, inplace=True)"
      ],
      "metadata": {
        "id": "qyJ839EOWDOv"
      },
      "execution_count": 5152,
      "outputs": []
    },
    {
      "cell_type": "code",
      "source": [
        "data.drop(\"Ethnicity\", axis=1, inplace=True)\n",
        "data2.drop(\"Ethnicity\", axis=1, inplace=True)"
      ],
      "metadata": {
        "id": "H88yUXEweC6i"
      },
      "execution_count": 5153,
      "outputs": []
    },
    {
      "cell_type": "code",
      "source": [
        "data.drop(\"Citizen\", axis=1, inplace=True)\n",
        "data2.drop(\"Citizen\", axis=1, inplace=True)"
      ],
      "metadata": {
        "id": "JnjZfG5XKrwr"
      },
      "execution_count": 5154,
      "outputs": []
    },
    {
      "cell_type": "markdown",
      "source": [
        "TEST\n",
        "--------------------------"
      ],
      "metadata": {
        "id": "Sxd1bnhDfVS_"
      }
    },
    {
      "cell_type": "code",
      "source": [
        "# data.drop(\"YearsEmployed\", axis=1, inplace=True)\n",
        "# data2.drop(\"YearsEmployed\", axis=1, inplace=True)"
      ],
      "metadata": {
        "id": "p6nQjIHprffA"
      },
      "execution_count": 5155,
      "outputs": []
    },
    {
      "cell_type": "code",
      "source": [
        "data.drop(\"Energy\", axis=1, inplace=True)\n",
        "data2.drop(\"Energy\", axis=1, inplace=True)\n",
        "\n",
        "data.drop(\"Materials\", axis=1, inplace=True)\n",
        "data2.drop(\"Materials\", axis=1, inplace=True)\n",
        "\n",
        "data.drop(\"Healthcare\", axis=1, inplace=True)\n",
        "data2.drop(\"Healthcare\", axis=1, inplace=True)"
      ],
      "metadata": {
        "id": "AWuXLNfsJw11"
      },
      "execution_count": 5156,
      "outputs": []
    },
    {
      "cell_type": "code",
      "source": [
        "data.drop(\"Gender\", axis=1, inplace=True)\n",
        "data2.drop(\"Gender\", axis=1, inplace=True)\n",
        "\n",
        "data.drop(\"DriversLicense\", axis=1, inplace=True)\n",
        "data2.drop(\"DriversLicense\", axis=1, inplace=True)\n",
        "\n",
        "data.drop(\"Married\", axis=1, inplace=True)\n",
        "data2.drop(\"Married\", axis=1, inplace=True)\n",
        "\n",
        "data.drop(\"BankCustomer\", axis=1, inplace=True)\n",
        "data2.drop(\"BankCustomer\", axis=1, inplace=True)"
      ],
      "metadata": {
        "id": "JLVaGgWTHrvQ"
      },
      "execution_count": 5157,
      "outputs": []
    },
    {
      "cell_type": "code",
      "source": [
        "data"
      ],
      "metadata": {
        "colab": {
          "base_uri": "https://localhost:8080/",
          "height": 424
        },
        "id": "SCLfHgTol4gX",
        "outputId": "a8ab6875-3485-4054-a87b-31488881af59"
      },
      "execution_count": 5158,
      "outputs": [
        {
          "output_type": "execute_result",
          "data": {
            "text/plain": [
              "           Age      Debt Industry  YearsEmployed  PriorDefault  Employed  \\\n",
              "0    -0.691863 -4.871077       11          1.250             1         1   \n",
              "1    27.148137 -0.036570        9          3.040             1         1   \n",
              "2    -7.021863 -3.996570        9          1.500             1         0   \n",
              "3    -3.691863 -2.956570       11          3.750             1         1   \n",
              "4   -11.351863  1.128430       11          1.710             1         0   \n",
              "..         ...       ...      ...            ...           ...       ...   \n",
              "478  -8.771863  7.003430        6          0.415             0         0   \n",
              "479  -5.021863 -1.786570       12          0.085             0         0   \n",
              "480 -14.601863 -3.996570        6          0.165             0         1   \n",
              "481  -8.021863 -1.331570        7          0.415             0         1   \n",
              "482 -14.191863  5.003430        8          1.750             0         1   \n",
              "\n",
              "     CreditScore  ZipCode  Income  Approved  \n",
              "0             -1       70   -1191         1  \n",
              "1              3       13    -631         1  \n",
              "2             -2       93    -367         1  \n",
              "3              2       33   -1188         1  \n",
              "4             -2       39   -1191         1  \n",
              "..           ...      ...     ...       ...  \n",
              "478           -2        0   -1191         0  \n",
              "479           -2       25   -1191         0  \n",
              "480            3       84   -1156         0  \n",
              "481           -1       93   -1111         0  \n",
              "482            7        0   -1181         0  \n",
              "\n",
              "[483 rows x 10 columns]"
            ],
            "text/html": [
              "\n",
              "  <div id=\"df-eeda7770-024b-459a-8be9-0275abcd011c\">\n",
              "    <div class=\"colab-df-container\">\n",
              "      <div>\n",
              "<style scoped>\n",
              "    .dataframe tbody tr th:only-of-type {\n",
              "        vertical-align: middle;\n",
              "    }\n",
              "\n",
              "    .dataframe tbody tr th {\n",
              "        vertical-align: top;\n",
              "    }\n",
              "\n",
              "    .dataframe thead th {\n",
              "        text-align: right;\n",
              "    }\n",
              "</style>\n",
              "<table border=\"1\" class=\"dataframe\">\n",
              "  <thead>\n",
              "    <tr style=\"text-align: right;\">\n",
              "      <th></th>\n",
              "      <th>Age</th>\n",
              "      <th>Debt</th>\n",
              "      <th>Industry</th>\n",
              "      <th>YearsEmployed</th>\n",
              "      <th>PriorDefault</th>\n",
              "      <th>Employed</th>\n",
              "      <th>CreditScore</th>\n",
              "      <th>ZipCode</th>\n",
              "      <th>Income</th>\n",
              "      <th>Approved</th>\n",
              "    </tr>\n",
              "  </thead>\n",
              "  <tbody>\n",
              "    <tr>\n",
              "      <th>0</th>\n",
              "      <td>-0.691863</td>\n",
              "      <td>-4.871077</td>\n",
              "      <td>11</td>\n",
              "      <td>1.250</td>\n",
              "      <td>1</td>\n",
              "      <td>1</td>\n",
              "      <td>-1</td>\n",
              "      <td>70</td>\n",
              "      <td>-1191</td>\n",
              "      <td>1</td>\n",
              "    </tr>\n",
              "    <tr>\n",
              "      <th>1</th>\n",
              "      <td>27.148137</td>\n",
              "      <td>-0.036570</td>\n",
              "      <td>9</td>\n",
              "      <td>3.040</td>\n",
              "      <td>1</td>\n",
              "      <td>1</td>\n",
              "      <td>3</td>\n",
              "      <td>13</td>\n",
              "      <td>-631</td>\n",
              "      <td>1</td>\n",
              "    </tr>\n",
              "    <tr>\n",
              "      <th>2</th>\n",
              "      <td>-7.021863</td>\n",
              "      <td>-3.996570</td>\n",
              "      <td>9</td>\n",
              "      <td>1.500</td>\n",
              "      <td>1</td>\n",
              "      <td>0</td>\n",
              "      <td>-2</td>\n",
              "      <td>93</td>\n",
              "      <td>-367</td>\n",
              "      <td>1</td>\n",
              "    </tr>\n",
              "    <tr>\n",
              "      <th>3</th>\n",
              "      <td>-3.691863</td>\n",
              "      <td>-2.956570</td>\n",
              "      <td>11</td>\n",
              "      <td>3.750</td>\n",
              "      <td>1</td>\n",
              "      <td>1</td>\n",
              "      <td>2</td>\n",
              "      <td>33</td>\n",
              "      <td>-1188</td>\n",
              "      <td>1</td>\n",
              "    </tr>\n",
              "    <tr>\n",
              "      <th>4</th>\n",
              "      <td>-11.351863</td>\n",
              "      <td>1.128430</td>\n",
              "      <td>11</td>\n",
              "      <td>1.710</td>\n",
              "      <td>1</td>\n",
              "      <td>0</td>\n",
              "      <td>-2</td>\n",
              "      <td>39</td>\n",
              "      <td>-1191</td>\n",
              "      <td>1</td>\n",
              "    </tr>\n",
              "    <tr>\n",
              "      <th>...</th>\n",
              "      <td>...</td>\n",
              "      <td>...</td>\n",
              "      <td>...</td>\n",
              "      <td>...</td>\n",
              "      <td>...</td>\n",
              "      <td>...</td>\n",
              "      <td>...</td>\n",
              "      <td>...</td>\n",
              "      <td>...</td>\n",
              "      <td>...</td>\n",
              "    </tr>\n",
              "    <tr>\n",
              "      <th>478</th>\n",
              "      <td>-8.771863</td>\n",
              "      <td>7.003430</td>\n",
              "      <td>6</td>\n",
              "      <td>0.415</td>\n",
              "      <td>0</td>\n",
              "      <td>0</td>\n",
              "      <td>-2</td>\n",
              "      <td>0</td>\n",
              "      <td>-1191</td>\n",
              "      <td>0</td>\n",
              "    </tr>\n",
              "    <tr>\n",
              "      <th>479</th>\n",
              "      <td>-5.021863</td>\n",
              "      <td>-1.786570</td>\n",
              "      <td>12</td>\n",
              "      <td>0.085</td>\n",
              "      <td>0</td>\n",
              "      <td>0</td>\n",
              "      <td>-2</td>\n",
              "      <td>25</td>\n",
              "      <td>-1191</td>\n",
              "      <td>0</td>\n",
              "    </tr>\n",
              "    <tr>\n",
              "      <th>480</th>\n",
              "      <td>-14.601863</td>\n",
              "      <td>-3.996570</td>\n",
              "      <td>6</td>\n",
              "      <td>0.165</td>\n",
              "      <td>0</td>\n",
              "      <td>1</td>\n",
              "      <td>3</td>\n",
              "      <td>84</td>\n",
              "      <td>-1156</td>\n",
              "      <td>0</td>\n",
              "    </tr>\n",
              "    <tr>\n",
              "      <th>481</th>\n",
              "      <td>-8.021863</td>\n",
              "      <td>-1.331570</td>\n",
              "      <td>7</td>\n",
              "      <td>0.415</td>\n",
              "      <td>0</td>\n",
              "      <td>1</td>\n",
              "      <td>-1</td>\n",
              "      <td>93</td>\n",
              "      <td>-1111</td>\n",
              "      <td>0</td>\n",
              "    </tr>\n",
              "    <tr>\n",
              "      <th>482</th>\n",
              "      <td>-14.191863</td>\n",
              "      <td>5.003430</td>\n",
              "      <td>8</td>\n",
              "      <td>1.750</td>\n",
              "      <td>0</td>\n",
              "      <td>1</td>\n",
              "      <td>7</td>\n",
              "      <td>0</td>\n",
              "      <td>-1181</td>\n",
              "      <td>0</td>\n",
              "    </tr>\n",
              "  </tbody>\n",
              "</table>\n",
              "<p>483 rows × 10 columns</p>\n",
              "</div>\n",
              "      <button class=\"colab-df-convert\" onclick=\"convertToInteractive('df-eeda7770-024b-459a-8be9-0275abcd011c')\"\n",
              "              title=\"Convert this dataframe to an interactive table.\"\n",
              "              style=\"display:none;\">\n",
              "        \n",
              "  <svg xmlns=\"http://www.w3.org/2000/svg\" height=\"24px\"viewBox=\"0 0 24 24\"\n",
              "       width=\"24px\">\n",
              "    <path d=\"M0 0h24v24H0V0z\" fill=\"none\"/>\n",
              "    <path d=\"M18.56 5.44l.94 2.06.94-2.06 2.06-.94-2.06-.94-.94-2.06-.94 2.06-2.06.94zm-11 1L8.5 8.5l.94-2.06 2.06-.94-2.06-.94L8.5 2.5l-.94 2.06-2.06.94zm10 10l.94 2.06.94-2.06 2.06-.94-2.06-.94-.94-2.06-.94 2.06-2.06.94z\"/><path d=\"M17.41 7.96l-1.37-1.37c-.4-.4-.92-.59-1.43-.59-.52 0-1.04.2-1.43.59L10.3 9.45l-7.72 7.72c-.78.78-.78 2.05 0 2.83L4 21.41c.39.39.9.59 1.41.59.51 0 1.02-.2 1.41-.59l7.78-7.78 2.81-2.81c.8-.78.8-2.07 0-2.86zM5.41 20L4 18.59l7.72-7.72 1.47 1.35L5.41 20z\"/>\n",
              "  </svg>\n",
              "      </button>\n",
              "      \n",
              "  <style>\n",
              "    .colab-df-container {\n",
              "      display:flex;\n",
              "      flex-wrap:wrap;\n",
              "      gap: 12px;\n",
              "    }\n",
              "\n",
              "    .colab-df-convert {\n",
              "      background-color: #E8F0FE;\n",
              "      border: none;\n",
              "      border-radius: 50%;\n",
              "      cursor: pointer;\n",
              "      display: none;\n",
              "      fill: #1967D2;\n",
              "      height: 32px;\n",
              "      padding: 0 0 0 0;\n",
              "      width: 32px;\n",
              "    }\n",
              "\n",
              "    .colab-df-convert:hover {\n",
              "      background-color: #E2EBFA;\n",
              "      box-shadow: 0px 1px 2px rgba(60, 64, 67, 0.3), 0px 1px 3px 1px rgba(60, 64, 67, 0.15);\n",
              "      fill: #174EA6;\n",
              "    }\n",
              "\n",
              "    [theme=dark] .colab-df-convert {\n",
              "      background-color: #3B4455;\n",
              "      fill: #D2E3FC;\n",
              "    }\n",
              "\n",
              "    [theme=dark] .colab-df-convert:hover {\n",
              "      background-color: #434B5C;\n",
              "      box-shadow: 0px 1px 3px 1px rgba(0, 0, 0, 0.15);\n",
              "      filter: drop-shadow(0px 1px 2px rgba(0, 0, 0, 0.3));\n",
              "      fill: #FFFFFF;\n",
              "    }\n",
              "  </style>\n",
              "\n",
              "      <script>\n",
              "        const buttonEl =\n",
              "          document.querySelector('#df-eeda7770-024b-459a-8be9-0275abcd011c button.colab-df-convert');\n",
              "        buttonEl.style.display =\n",
              "          google.colab.kernel.accessAllowed ? 'block' : 'none';\n",
              "\n",
              "        async function convertToInteractive(key) {\n",
              "          const element = document.querySelector('#df-eeda7770-024b-459a-8be9-0275abcd011c');\n",
              "          const dataTable =\n",
              "            await google.colab.kernel.invokeFunction('convertToInteractive',\n",
              "                                                     [key], {});\n",
              "          if (!dataTable) return;\n",
              "\n",
              "          const docLinkHtml = 'Like what you see? Visit the ' +\n",
              "            '<a target=\"_blank\" href=https://colab.research.google.com/notebooks/data_table.ipynb>data table notebook</a>'\n",
              "            + ' to learn more about interactive tables.';\n",
              "          element.innerHTML = '';\n",
              "          dataTable['output_type'] = 'display_data';\n",
              "          await google.colab.output.renderOutput(dataTable, element);\n",
              "          const docLink = document.createElement('div');\n",
              "          docLink.innerHTML = docLinkHtml;\n",
              "          element.appendChild(docLink);\n",
              "        }\n",
              "      </script>\n",
              "    </div>\n",
              "  </div>\n",
              "  "
            ]
          },
          "metadata": {},
          "execution_count": 5158
        }
      ]
    },
    {
      "cell_type": "markdown",
      "source": [
        "Predict\n",
        "--------------------------"
      ],
      "metadata": {
        "id": "DDC4LI9Xfwh5"
      }
    },
    {
      "cell_type": "code",
      "source": [
        "X = data.drop(\"Approved\", axis=1)\n",
        "y = data[\"Approved\"]"
      ],
      "metadata": {
        "id": "rPbB9VYbe11U"
      },
      "execution_count": 5159,
      "outputs": []
    },
    {
      "cell_type": "code",
      "source": [
        "x_train, x_test, y_train, y_test = train_test_split(X,y,test_size= .6)"
      ],
      "metadata": {
        "id": "L-1beNPBePoZ"
      },
      "execution_count": 5160,
      "outputs": []
    },
    {
      "cell_type": "code",
      "source": [
        "# x_test"
      ],
      "metadata": {
        "id": "gCTvTSj-20SJ"
      },
      "execution_count": 5161,
      "outputs": []
    },
    {
      "cell_type": "code",
      "source": [
        "# classifier= DecisionTreeClassifier(criterion='gini')\n",
        "#Check Random Forest Please"
      ],
      "metadata": {
        "id": "qKEkB82re-4p"
      },
      "execution_count": 5162,
      "outputs": []
    },
    {
      "cell_type": "code",
      "source": [
        "# from sklearn.ensemble import RandomForestClassifier\n",
        "# classifier=RandomForestClassifier(n_estimators=11)"
      ],
      "metadata": {
        "id": "31N6EA3dUFOb"
      },
      "execution_count": 5163,
      "outputs": []
    },
    {
      "cell_type": "code",
      "source": [
        "# from sklearn.model_selection import train_test_split\n",
        "# classifier = KNeighborsClassifier(n_neighbors=3)"
      ],
      "metadata": {
        "id": "5YuMCEGQIP09"
      },
      "execution_count": 5164,
      "outputs": []
    },
    {
      "cell_type": "code",
      "source": [
        "# from sklearn.linear_model import LogisticRegression\n",
        "# from sklearn.metrics import classification_report, confusion_matrix\n",
        "\n",
        "# classifier = LogisticRegression(penalty='l1',solver='liblinear', C = 4)\n",
        "# #The Classfier i Submited"
      ],
      "metadata": {
        "id": "Bsfgc4K9HnrO"
      },
      "execution_count": 5165,
      "outputs": []
    },
    {
      "cell_type": "code",
      "source": [
        "classifier = RandomForestClassifier(n_estimators=250,\n",
        "                              max_depth=21,\n",
        "                              min_samples_leaf=16\n",
        "                              )\n",
        "classifier = RandomForestClassifier(n_estimators=950)"
      ],
      "metadata": {
        "id": "FbeTpEvtuVLe"
      },
      "execution_count": 5166,
      "outputs": []
    },
    {
      "cell_type": "code",
      "source": [
        "classifier.fit(x_train, y_train)"
      ],
      "metadata": {
        "id": "4NVXSnMniyGM",
        "colab": {
          "base_uri": "https://localhost:8080/"
        },
        "outputId": "c68fc5f6-cc68-418b-b144-90fde4c686fb"
      },
      "execution_count": 5167,
      "outputs": [
        {
          "output_type": "execute_result",
          "data": {
            "text/plain": [
              "RandomForestClassifier(n_estimators=950)"
            ]
          },
          "metadata": {},
          "execution_count": 5167
        }
      ]
    },
    {
      "cell_type": "code",
      "source": [
        "y_predict = classifier.predict(data2)"
      ],
      "metadata": {
        "id": "hXfr-AjX1smF"
      },
      "execution_count": 5168,
      "outputs": []
    },
    {
      "cell_type": "code",
      "source": [
        "pd.DataFrame(y_predict).to_csv('predictied.csv')"
      ],
      "metadata": {
        "id": "Wy9hkC1fLopD"
      },
      "execution_count": 5169,
      "outputs": []
    },
    {
      "cell_type": "code",
      "source": [
        "# y_predict.sum()"
      ],
      "metadata": {
        "id": "vP_rpsaH68Rn"
      },
      "execution_count": 5170,
      "outputs": []
    },
    {
      "cell_type": "code",
      "source": [
        "y_predict = classifier.predict(x_test)"
      ],
      "metadata": {
        "id": "KNXt7Ta0d9YR"
      },
      "execution_count": 5171,
      "outputs": []
    },
    {
      "cell_type": "code",
      "source": [
        "metrics.accuracy_score(y_test, y_predict)"
      ],
      "metadata": {
        "id": "cnMGWoSe1tnk",
        "colab": {
          "base_uri": "https://localhost:8080/"
        },
        "outputId": "4c029958-8eda-460b-876c-b5090daca9b6"
      },
      "execution_count": 5172,
      "outputs": [
        {
          "output_type": "execute_result",
          "data": {
            "text/plain": [
              "0.8586206896551725"
            ]
          },
          "metadata": {},
          "execution_count": 5172
        }
      ]
    },
    {
      "cell_type": "code",
      "source": [
        "feature_imp = pd.Series(classifier.feature_importances_,\n",
        "                        index=X.columns).sort_values(ascending=False)\n",
        "feature_imp"
      ],
      "metadata": {
        "colab": {
          "base_uri": "https://localhost:8080/"
        },
        "id": "TzM1uXFGB-8O",
        "outputId": "4cc6a331-e0c1-4de0-f2f9-0987c1456444"
      },
      "execution_count": 5173,
      "outputs": [
        {
          "output_type": "execute_result",
          "data": {
            "text/plain": [
              "PriorDefault     0.353291\n",
              "Income           0.114577\n",
              "Debt             0.099345\n",
              "ZipCode          0.099142\n",
              "YearsEmployed    0.088662\n",
              "CreditScore      0.070831\n",
              "Age              0.069359\n",
              "Industry         0.059208\n",
              "Employed         0.045585\n",
              "dtype: float64"
            ]
          },
          "metadata": {},
          "execution_count": 5173
        }
      ]
    },
    {
      "cell_type": "code",
      "source": [
        "sns.barplot(x=feature_imp, y=feature_imp.index)\n",
        "# Add labels to your graph\n",
        "plt.xlabel('Feature Importance Score')\n",
        "plt.ylabel('Features')\n",
        "# plt.title(\"Visualizing Important Features\")\n",
        "plt.legend()\n",
        "plt.show()"
      ],
      "metadata": {
        "colab": {
          "base_uri": "https://localhost:8080/",
          "height": 296
        },
        "id": "lrky1dvVA7GA",
        "outputId": "1eb1effa-cb3e-4064-b2df-e8473288be1a"
      },
      "execution_count": 5174,
      "outputs": [
        {
          "output_type": "stream",
          "name": "stderr",
          "text": [
            "WARNING:matplotlib.legend:No handles with labels found to put in legend.\n"
          ]
        },
        {
          "output_type": "display_data",
          "data": {
            "text/plain": [
              "<Figure size 432x288 with 1 Axes>"
            ],
            "image/png": "[encoded data removed]"
          },
          "metadata": {
            "needs_background": "light"
          }
        }
      ]
    }
  ]
}